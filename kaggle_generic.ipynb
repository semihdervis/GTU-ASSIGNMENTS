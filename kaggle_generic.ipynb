{
  "nbformat": 4,
  "nbformat_minor": 0,
  "metadata": {
    "colab": {
      "provenance": [],
      "mount_file_id": "1IldjUrJrjXjCphlk4Mmqqkxf2oQYGy7P",
      "authorship_tag": "ABX9TyPa6HmDd1eis3spmczVFqv7",
      "include_colab_link": true
    },
    "kernelspec": {
      "name": "python3",
      "display_name": "Python 3"
    },
    "language_info": {
      "name": "python"
    }
  },
  "cells": [
    {
      "cell_type": "markdown",
      "metadata": {
        "id": "view-in-github",
        "colab_type": "text"
      },
      "source": [
        "<a href=\"https://colab.research.google.com/github/semihdervis/GTU-Assignments/blob/main/kaggle_generic.ipynb\" target=\"_parent\"><img src=\"https://colab.research.google.com/assets/colab-badge.svg\" alt=\"Open In Colab\"/></a>"
      ]
    },
    {
      "cell_type": "code",
      "execution_count": 1,
      "metadata": {
        "id": "0YH8zhyqarhy"
      },
      "outputs": [],
      "source": [
        "! pip install kaggle &> /dev/null"
      ]
    },
    {
      "cell_type": "code",
      "source": [
        "! mkdir ~/.kaggle\n",
        "! cp /content/drive/MyDrive/apis/kaggle.json ~/.kaggle/\n",
        "! chmod 600 ~/.kaggle/kaggle.json"
      ],
      "metadata": {
        "id": "jBWnKuVJbHli"
      },
      "execution_count": 2,
      "outputs": []
    },
    {
      "source": [
        "!kaggle datasets download -d waqi786/medical-costs -p /content/drive/MyDrive/Datasets"
      ],
      "cell_type": "code",
      "metadata": {
        "colab": {
          "base_uri": "https://localhost:8080/"
        },
        "id": "7RO_gz7ei-uQ",
        "outputId": "90b3b835-7183-4dd0-e8c7-40c89b51dd1d"
      },
      "execution_count": 5,
      "outputs": [
        {
          "output_type": "stream",
          "name": "stdout",
          "text": [
            "Warning: Looks like you're using an outdated API Version, please consider updating (server 1.6.17 / client 1.6.14)\n",
            "Dataset URL: https://www.kaggle.com/datasets/waqi786/medical-costs\n",
            "License(s): Apache 2.0\n",
            "medical-costs.zip: Skipping, found more recently modified local copy (use --force to force download)\n"
          ]
        }
      ]
    },
    {
      "source": [
        "!unzip /content/drive/MyDrive/Datasets/medical-costs.zip -d /content/drive/MyDrive/Datasets"
      ],
      "cell_type": "code",
      "metadata": {
        "id": "krFfLQPtUCUa",
        "outputId": "b26453d3-c052-4ec5-f266-b2e0488ab200",
        "colab": {
          "base_uri": "https://localhost:8080/"
        }
      },
      "execution_count": 6,
      "outputs": [
        {
          "output_type": "stream",
          "name": "stdout",
          "text": [
            "Archive:  /content/drive/MyDrive/Datasets/medical-costs.zip\n",
            "  inflating: /content/drive/MyDrive/Datasets/medical_costs.csv  \n"
          ]
        }
      ]
    }
  ]
}